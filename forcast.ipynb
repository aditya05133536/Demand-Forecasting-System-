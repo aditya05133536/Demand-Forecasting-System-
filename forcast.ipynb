{
  "cells": [
    {
      "cell_type": "markdown",
      "metadata": {
        "id": "view-in-github",
        "colab_type": "text"
      },
      "source": [
        "<a href=\"https://colab.research.google.com/github/aditya05133536/Demand-Forecasting-System-/blob/main/forcast.ipynb\" target=\"_parent\"><img src=\"https://colab.research.google.com/assets/colab-badge.svg\" alt=\"Open In Colab\"/></a>"
      ]
    },
    {
      "cell_type": "code",
      "source": [
        "import numpy as np"
      ],
      "metadata": {
        "id": "JeV1SlrNxv_H"
      },
      "id": "JeV1SlrNxv_H",
      "execution_count": null,
      "outputs": []
    },
    {
      "cell_type": "code",
      "source": [
        "import pandas as pd"
      ],
      "metadata": {
        "id": "sl25hAfkxv78"
      },
      "id": "sl25hAfkxv78",
      "execution_count": null,
      "outputs": []
    },
    {
      "cell_type": "code",
      "source": [
        "from sklearn.model_selection import train_test_split\n",
        "from sklearn.metrics import mean_squared_error"
      ],
      "metadata": {
        "id": "di1GZbWyxv40"
      },
      "id": "di1GZbWyxv40",
      "execution_count": null,
      "outputs": []
    },
    {
      "cell_type": "code",
      "source": [
        "from prophet import Prophet"
      ],
      "metadata": {
        "id": "Ep6w7HnSxv1l"
      },
      "id": "Ep6w7HnSxv1l",
      "execution_count": null,
      "outputs": []
    },
    {
      "cell_type": "code",
      "source": [
        "import pickle"
      ],
      "metadata": {
        "id": "JErtsrhwxvxy"
      },
      "id": "JErtsrhwxvxy",
      "execution_count": null,
      "outputs": []
    },
    {
      "cell_type": "code",
      "source": [
        "transactional_data_retail01 = pd.read_csv('/Transactional_data_retail_01.csv')\n",
        "transactional_data_retail02 = pd.read_csv('/Transactional_data_retail_02.csv')\n",
        "customer_demographics = pd.read_csv('/CustomerDemographics.csv')\n",
        "product_info = pd.read_csv('/ProductInfo.csv')\n"
      ],
      "metadata": {
        "id": "7A8uF8dbxvuO"
      },
      "id": "7A8uF8dbxvuO",
      "execution_count": null,
      "outputs": []
    },
    {
      "cell_type": "code",
      "source": [
        "transactional_data = pd.concat([transactional_data_retail01, transactional_data_retail02])\n"
      ],
      "metadata": {
        "id": "_7O3RZ4elLdz"
      },
      "id": "_7O3RZ4elLdz",
      "execution_count": null,
      "outputs": []
    },
    {
      "cell_type": "code",
      "source": [
        "def exploratory_data_analysis(data):\n",
        "    print(\"Summary statistics:\")\n",
        "    print(data.describe())\n",
        "    print(\"\\nMissing values:\")\n",
        "    print(data.isnull().sum())\n",
        "\n",
        "exploratory_data_analysis(transactional_data)\n"
      ],
      "metadata": {
        "colab": {
          "base_uri": "https://localhost:8080/"
        },
        "id": "xC5S7JUxlSHa",
        "outputId": "52e4f712-f36c-426d-fe38-f9441e022450"
      },
      "id": "xC5S7JUxlSHa",
      "execution_count": null,
      "outputs": [
        {
          "output_type": "stream",
          "name": "stdout",
          "text": [
            "Summary statistics:\n",
            "            Quantity          Price    Customer ID\n",
            "count  344319.000000  344318.000000  253263.000000\n",
            "mean       10.171417       4.886895   15310.133470\n",
            "std       205.990194     128.024246    1700.931004\n",
            "min    -74215.000000  -53594.360000   12346.000000\n",
            "25%         1.000000       1.250000   13897.000000\n",
            "50%         3.000000       2.250000   15216.000000\n",
            "75%        10.000000       4.250000   16814.000000\n",
            "max     74215.000000   16888.020000   18287.000000\n",
            "\n",
            "Missing values:\n",
            "Invoice            0\n",
            "StockCode          0\n",
            "Quantity           0\n",
            "Price              1\n",
            "Customer ID    91056\n",
            "InvoiceDate        2\n",
            "dtype: int64\n"
          ]
        }
      ]
    },
    {
      "cell_type": "code",
      "source": [
        "top_10_stock_codes = transactional_data.groupby('StockCode')['Quantity'].sum().sort_values(ascending=False).head(10)"
      ],
      "metadata": {
        "id": "ttpVb1eYllzz"
      },
      "id": "ttpVb1eYllzz",
      "execution_count": null,
      "outputs": []
    },
    {
      "cell_type": "code",
      "source": [
        "transactional_data[\"revenue\"]=transactional_data[\"Quantity\"]*transactional_data[\"Price\"]"
      ],
      "metadata": {
        "id": "MQ-eLybClz6a"
      },
      "id": "MQ-eLybClz6a",
      "execution_count": null,
      "outputs": []
    },
    {
      "cell_type": "code",
      "source": [
        "top_10_revenue_products = transactional_data.groupby('StockCode')['revenue'].sum().sort_values(ascending=False).head(10)"
      ],
      "metadata": {
        "id": "vseIsRAMnZhN"
      },
      "id": "vseIsRAMnZhN",
      "execution_count": null,
      "outputs": []
    },
    {
      "cell_type": "code",
      "source": [
        "def prepare_data(transactional_data, stock_code):\n",
        "    # Filter data for the specific stock code\n",
        "    data = transactional_data[transactional_data['StockCode'] == stock_code].copy()\n",
        "\n",
        "    # Convert 'InvoiceDate' to datetime\n",
        "    data['InvoiceDate'] = pd.to_datetime(data['InvoiceDate'], errors='coerce')\n",
        "\n",
        "    # Aggregate the data by date\n",
        "    data_grouped = data.groupby('InvoiceDate')['Quantity'].sum().reset_index()\n",
        "\n",
        "    # Rename columns to 'ds' and 'y' as required by Prophet\n",
        "    data_grouped.rename(columns={'InvoiceDate': 'ds', 'Quantity': 'y'}, inplace=True)\n",
        "\n",
        "    # Ensure no missing values\n",
        "    data_grouped = data_grouped.dropna(subset=['ds', 'y'])\n",
        "\n",
        "    # Ensure correct data types\n",
        "    data_grouped['ds'] = pd.to_datetime(data_grouped['ds'])\n",
        "    data_grouped['y'] = data_grouped['y'].astype(float)\n",
        "    data_grouped = data_grouped.sort_values('ds')\n",
        "\n",
        "    return data_grouped"
      ],
      "metadata": {
        "id": "r0W5nQCQntM6"
      },
      "id": "r0W5nQCQntM6",
      "execution_count": null,
      "outputs": []
    },
    {
      "cell_type": "code",
      "source": [
        "def time_series_analysis(data):\n",
        "    # Initialize and fit the Prophet model\n",
        "    model = Prophet()\n",
        "    model.fit(data)\n",
        "\n",
        "    # Create future dates\n",
        "    future = model.make_future_dataframe(periods=15, freq='W')\n",
        "\n",
        "    # Forecast\n",
        "    forecast = model.predict(future)\n",
        "\n",
        "    return model, forecast\n"
      ],
      "metadata": {
        "id": "eU-fP7WwoEtv"
      },
      "id": "eU-fP7WwoEtv",
      "execution_count": null,
      "outputs": []
    },
    {
      "cell_type": "code",
      "source": [
        "for stock_code in top_10_stock_codes.index:\n",
        "    data = prepare_data(transactional_data, stock_code)\n",
        "    model, forecast = time_series_analysis(data)"
      ],
      "metadata": {
        "colab": {
          "base_uri": "https://localhost:8080/"
        },
        "id": "7oef9bpBoIrn",
        "outputId": "4437897e-53da-4624-8768-77297c7b0b31"
      },
      "id": "7oef9bpBoIrn",
      "execution_count": null,
      "outputs": [
        {
          "output_type": "stream",
          "name": "stderr",
          "text": [
            "INFO:prophet:Disabling yearly seasonality. Run prophet with yearly_seasonality=True to override this.\n",
            "INFO:prophet:Disabling daily seasonality. Run prophet with daily_seasonality=True to override this.\n",
            "DEBUG:cmdstanpy:input tempfile: /tmp/tmpwwpedtw8/9epllouj.json\n",
            "DEBUG:cmdstanpy:input tempfile: /tmp/tmpwwpedtw8/r4a5b1_4.json\n",
            "DEBUG:cmdstanpy:idx 0\n",
            "DEBUG:cmdstanpy:running CmdStan, num_threads: None\n",
            "DEBUG:cmdstanpy:CmdStan args: ['/usr/local/lib/python3.10/dist-packages/prophet/stan_model/prophet_model.bin', 'random', 'seed=40325', 'data', 'file=/tmp/tmpwwpedtw8/9epllouj.json', 'init=/tmp/tmpwwpedtw8/r4a5b1_4.json', 'output', 'file=/tmp/tmpwwpedtw8/prophet_model3cwrvlul/prophet_model-20241003184145.csv', 'method=optimize', 'algorithm=lbfgs', 'iter=10000']\n",
            "18:41:45 - cmdstanpy - INFO - Chain [1] start processing\n",
            "INFO:cmdstanpy:Chain [1] start processing\n",
            "18:41:45 - cmdstanpy - INFO - Chain [1] done processing\n",
            "INFO:cmdstanpy:Chain [1] done processing\n",
            "INFO:prophet:Disabling yearly seasonality. Run prophet with yearly_seasonality=True to override this.\n",
            "INFO:prophet:Disabling daily seasonality. Run prophet with daily_seasonality=True to override this.\n",
            "DEBUG:cmdstanpy:input tempfile: /tmp/tmpwwpedtw8/0gx37rcv.json\n",
            "DEBUG:cmdstanpy:input tempfile: /tmp/tmpwwpedtw8/un4jepgn.json\n",
            "DEBUG:cmdstanpy:idx 0\n",
            "DEBUG:cmdstanpy:running CmdStan, num_threads: None\n",
            "DEBUG:cmdstanpy:CmdStan args: ['/usr/local/lib/python3.10/dist-packages/prophet/stan_model/prophet_model.bin', 'random', 'seed=1002', 'data', 'file=/tmp/tmpwwpedtw8/0gx37rcv.json', 'init=/tmp/tmpwwpedtw8/un4jepgn.json', 'output', 'file=/tmp/tmpwwpedtw8/prophet_model79dzs_sq/prophet_model-20241003184145.csv', 'method=optimize', 'algorithm=lbfgs', 'iter=10000']\n",
            "18:41:45 - cmdstanpy - INFO - Chain [1] start processing\n",
            "INFO:cmdstanpy:Chain [1] start processing\n",
            "18:41:45 - cmdstanpy - INFO - Chain [1] done processing\n",
            "INFO:cmdstanpy:Chain [1] done processing\n",
            "INFO:prophet:Disabling yearly seasonality. Run prophet with yearly_seasonality=True to override this.\n",
            "INFO:prophet:Disabling daily seasonality. Run prophet with daily_seasonality=True to override this.\n",
            "DEBUG:cmdstanpy:input tempfile: /tmp/tmpwwpedtw8/5kisfq6d.json\n",
            "DEBUG:cmdstanpy:input tempfile: /tmp/tmpwwpedtw8/x9kw8l4r.json\n",
            "DEBUG:cmdstanpy:idx 0\n",
            "DEBUG:cmdstanpy:running CmdStan, num_threads: None\n",
            "DEBUG:cmdstanpy:CmdStan args: ['/usr/local/lib/python3.10/dist-packages/prophet/stan_model/prophet_model.bin', 'random', 'seed=11872', 'data', 'file=/tmp/tmpwwpedtw8/5kisfq6d.json', 'init=/tmp/tmpwwpedtw8/x9kw8l4r.json', 'output', 'file=/tmp/tmpwwpedtw8/prophet_model3ql8nps7/prophet_model-20241003184145.csv', 'method=optimize', 'algorithm=lbfgs', 'iter=10000']\n",
            "18:41:45 - cmdstanpy - INFO - Chain [1] start processing\n",
            "INFO:cmdstanpy:Chain [1] start processing\n",
            "18:41:45 - cmdstanpy - INFO - Chain [1] done processing\n",
            "INFO:cmdstanpy:Chain [1] done processing\n",
            "INFO:prophet:Disabling yearly seasonality. Run prophet with yearly_seasonality=True to override this.\n",
            "INFO:prophet:Disabling daily seasonality. Run prophet with daily_seasonality=True to override this.\n",
            "DEBUG:cmdstanpy:input tempfile: /tmp/tmpwwpedtw8/5ap84ihi.json\n",
            "DEBUG:cmdstanpy:input tempfile: /tmp/tmpwwpedtw8/a02mbgwc.json\n",
            "DEBUG:cmdstanpy:idx 0\n",
            "DEBUG:cmdstanpy:running CmdStan, num_threads: None\n",
            "DEBUG:cmdstanpy:CmdStan args: ['/usr/local/lib/python3.10/dist-packages/prophet/stan_model/prophet_model.bin', 'random', 'seed=49188', 'data', 'file=/tmp/tmpwwpedtw8/5ap84ihi.json', 'init=/tmp/tmpwwpedtw8/a02mbgwc.json', 'output', 'file=/tmp/tmpwwpedtw8/prophet_modelrpr_49q8/prophet_model-20241003184145.csv', 'method=optimize', 'algorithm=newton', 'iter=10000']\n",
            "18:41:45 - cmdstanpy - INFO - Chain [1] start processing\n",
            "INFO:cmdstanpy:Chain [1] start processing\n",
            "18:41:45 - cmdstanpy - INFO - Chain [1] done processing\n",
            "INFO:cmdstanpy:Chain [1] done processing\n",
            "INFO:prophet:Disabling yearly seasonality. Run prophet with yearly_seasonality=True to override this.\n",
            "INFO:prophet:Disabling daily seasonality. Run prophet with daily_seasonality=True to override this.\n",
            "INFO:prophet:n_changepoints greater than number of observations. Using 19.\n",
            "DEBUG:cmdstanpy:input tempfile: /tmp/tmpwwpedtw8/dic_tvsw.json\n",
            "DEBUG:cmdstanpy:input tempfile: /tmp/tmpwwpedtw8/08_2ykvk.json\n",
            "DEBUG:cmdstanpy:idx 0\n",
            "DEBUG:cmdstanpy:running CmdStan, num_threads: None\n",
            "DEBUG:cmdstanpy:CmdStan args: ['/usr/local/lib/python3.10/dist-packages/prophet/stan_model/prophet_model.bin', 'random', 'seed=83395', 'data', 'file=/tmp/tmpwwpedtw8/dic_tvsw.json', 'init=/tmp/tmpwwpedtw8/08_2ykvk.json', 'output', 'file=/tmp/tmpwwpedtw8/prophet_modelxr94xgkz/prophet_model-20241003184145.csv', 'method=optimize', 'algorithm=newton', 'iter=10000']\n",
            "18:41:45 - cmdstanpy - INFO - Chain [1] start processing\n",
            "INFO:cmdstanpy:Chain [1] start processing\n",
            "18:41:46 - cmdstanpy - INFO - Chain [1] done processing\n",
            "INFO:cmdstanpy:Chain [1] done processing\n",
            "INFO:prophet:Disabling yearly seasonality. Run prophet with yearly_seasonality=True to override this.\n",
            "INFO:prophet:Disabling daily seasonality. Run prophet with daily_seasonality=True to override this.\n",
            "DEBUG:cmdstanpy:input tempfile: /tmp/tmpwwpedtw8/ro3wcyxi.json\n",
            "DEBUG:cmdstanpy:input tempfile: /tmp/tmpwwpedtw8/9bm8suwn.json\n",
            "DEBUG:cmdstanpy:idx 0\n",
            "DEBUG:cmdstanpy:running CmdStan, num_threads: None\n",
            "DEBUG:cmdstanpy:CmdStan args: ['/usr/local/lib/python3.10/dist-packages/prophet/stan_model/prophet_model.bin', 'random', 'seed=95044', 'data', 'file=/tmp/tmpwwpedtw8/ro3wcyxi.json', 'init=/tmp/tmpwwpedtw8/9bm8suwn.json', 'output', 'file=/tmp/tmpwwpedtw8/prophet_modelmv6bx1d_/prophet_model-20241003184146.csv', 'method=optimize', 'algorithm=lbfgs', 'iter=10000']\n",
            "18:41:46 - cmdstanpy - INFO - Chain [1] start processing\n",
            "INFO:cmdstanpy:Chain [1] start processing\n",
            "18:41:46 - cmdstanpy - INFO - Chain [1] done processing\n",
            "INFO:cmdstanpy:Chain [1] done processing\n",
            "INFO:prophet:Disabling yearly seasonality. Run prophet with yearly_seasonality=True to override this.\n",
            "INFO:prophet:Disabling daily seasonality. Run prophet with daily_seasonality=True to override this.\n",
            "DEBUG:cmdstanpy:input tempfile: /tmp/tmpwwpedtw8/07uxu8al.json\n",
            "DEBUG:cmdstanpy:input tempfile: /tmp/tmpwwpedtw8/qcuw514c.json\n",
            "DEBUG:cmdstanpy:idx 0\n",
            "DEBUG:cmdstanpy:running CmdStan, num_threads: None\n",
            "DEBUG:cmdstanpy:CmdStan args: ['/usr/local/lib/python3.10/dist-packages/prophet/stan_model/prophet_model.bin', 'random', 'seed=38891', 'data', 'file=/tmp/tmpwwpedtw8/07uxu8al.json', 'init=/tmp/tmpwwpedtw8/qcuw514c.json', 'output', 'file=/tmp/tmpwwpedtw8/prophet_modelvfw8svho/prophet_model-20241003184146.csv', 'method=optimize', 'algorithm=lbfgs', 'iter=10000']\n",
            "18:41:46 - cmdstanpy - INFO - Chain [1] start processing\n",
            "INFO:cmdstanpy:Chain [1] start processing\n",
            "18:41:46 - cmdstanpy - INFO - Chain [1] done processing\n",
            "INFO:cmdstanpy:Chain [1] done processing\n",
            "INFO:prophet:Disabling yearly seasonality. Run prophet with yearly_seasonality=True to override this.\n",
            "INFO:prophet:Disabling daily seasonality. Run prophet with daily_seasonality=True to override this.\n",
            "DEBUG:cmdstanpy:input tempfile: /tmp/tmpwwpedtw8/bio5lx_g.json\n",
            "DEBUG:cmdstanpy:input tempfile: /tmp/tmpwwpedtw8/7s_wj7l5.json\n",
            "DEBUG:cmdstanpy:idx 0\n",
            "DEBUG:cmdstanpy:running CmdStan, num_threads: None\n",
            "DEBUG:cmdstanpy:CmdStan args: ['/usr/local/lib/python3.10/dist-packages/prophet/stan_model/prophet_model.bin', 'random', 'seed=17515', 'data', 'file=/tmp/tmpwwpedtw8/bio5lx_g.json', 'init=/tmp/tmpwwpedtw8/7s_wj7l5.json', 'output', 'file=/tmp/tmpwwpedtw8/prophet_modeloa5dcyu_/prophet_model-20241003184146.csv', 'method=optimize', 'algorithm=newton', 'iter=10000']\n",
            "18:41:46 - cmdstanpy - INFO - Chain [1] start processing\n",
            "INFO:cmdstanpy:Chain [1] start processing\n",
            "18:41:46 - cmdstanpy - INFO - Chain [1] done processing\n",
            "INFO:cmdstanpy:Chain [1] done processing\n",
            "INFO:prophet:Disabling yearly seasonality. Run prophet with yearly_seasonality=True to override this.\n",
            "INFO:prophet:Disabling daily seasonality. Run prophet with daily_seasonality=True to override this.\n",
            "DEBUG:cmdstanpy:input tempfile: /tmp/tmpwwpedtw8/locrkyc3.json\n",
            "DEBUG:cmdstanpy:input tempfile: /tmp/tmpwwpedtw8/vb5ehygl.json\n",
            "DEBUG:cmdstanpy:idx 0\n",
            "DEBUG:cmdstanpy:running CmdStan, num_threads: None\n",
            "DEBUG:cmdstanpy:CmdStan args: ['/usr/local/lib/python3.10/dist-packages/prophet/stan_model/prophet_model.bin', 'random', 'seed=99662', 'data', 'file=/tmp/tmpwwpedtw8/locrkyc3.json', 'init=/tmp/tmpwwpedtw8/vb5ehygl.json', 'output', 'file=/tmp/tmpwwpedtw8/prophet_modeldb6j2vnl/prophet_model-20241003184146.csv', 'method=optimize', 'algorithm=newton', 'iter=10000']\n",
            "18:41:47 - cmdstanpy - INFO - Chain [1] start processing\n",
            "INFO:cmdstanpy:Chain [1] start processing\n",
            "18:41:47 - cmdstanpy - INFO - Chain [1] done processing\n",
            "INFO:cmdstanpy:Chain [1] done processing\n",
            "INFO:prophet:Disabling yearly seasonality. Run prophet with yearly_seasonality=True to override this.\n",
            "INFO:prophet:Disabling daily seasonality. Run prophet with daily_seasonality=True to override this.\n",
            "DEBUG:cmdstanpy:input tempfile: /tmp/tmpwwpedtw8/we8_ewba.json\n",
            "DEBUG:cmdstanpy:input tempfile: /tmp/tmpwwpedtw8/f14uv1kc.json\n",
            "DEBUG:cmdstanpy:idx 0\n",
            "DEBUG:cmdstanpy:running CmdStan, num_threads: None\n",
            "DEBUG:cmdstanpy:CmdStan args: ['/usr/local/lib/python3.10/dist-packages/prophet/stan_model/prophet_model.bin', 'random', 'seed=329', 'data', 'file=/tmp/tmpwwpedtw8/we8_ewba.json', 'init=/tmp/tmpwwpedtw8/f14uv1kc.json', 'output', 'file=/tmp/tmpwwpedtw8/prophet_modelv4qwf_pc/prophet_model-20241003184147.csv', 'method=optimize', 'algorithm=newton', 'iter=10000']\n",
            "18:41:47 - cmdstanpy - INFO - Chain [1] start processing\n",
            "INFO:cmdstanpy:Chain [1] start processing\n",
            "18:41:47 - cmdstanpy - INFO - Chain [1] done processing\n",
            "INFO:cmdstanpy:Chain [1] done processing\n"
          ]
        }
      ]
    },
    {
      "cell_type": "code",
      "source": [
        "with open(f'model_{stock_code}.pkl', 'wb') as f:\n",
        "        pickle.dump(model, f)"
      ],
      "metadata": {
        "id": "KKGP2eLnsEMb"
      },
      "id": "KKGP2eLnsEMb",
      "execution_count": null,
      "outputs": []
    },
    {
      "cell_type": "code",
      "source": [
        "forecast.to_csv(f'forecast_{stock_code}.csv', index=False)"
      ],
      "metadata": {
        "id": "Aze_caeis7FU"
      },
      "id": "Aze_caeis7FU",
      "execution_count": null,
      "outputs": []
    }
  ],
  "metadata": {
    "kernelspec": {
      "display_name": "Python 3 (ipykernel)",
      "language": "python",
      "name": "python3"
    },
    "language_info": {
      "codemirror_mode": {
        "name": "ipython",
        "version": 3
      },
      "file_extension": ".py",
      "mimetype": "text/x-python",
      "name": "python",
      "nbconvert_exporter": "python",
      "pygments_lexer": "ipython3",
      "version": "3.11.5"
    },
    "colab": {
      "provenance": [],
      "include_colab_link": true
    }
  },
  "nbformat": 4,
  "nbformat_minor": 5
}